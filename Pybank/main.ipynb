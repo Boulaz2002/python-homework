{
 "cells": [
  {
   "cell_type": "markdown",
   "id": "6c9f756b-3ce8-4d63-8f94-49657fe6e107",
   "metadata": {},
   "source": [
    "### PyBank Homework\n"
   ]
  },
  {
   "cell_type": "code",
   "execution_count": 104,
   "id": "23d9fe82-6888-4416-85e6-dc8d8e26899a",
   "metadata": {},
   "outputs": [],
   "source": [
    "# Import csv library and Path from pathlib\n",
    "import csv\n",
    "from pathlib import Path"
   ]
  },
  {
   "cell_type": "code",
   "execution_count": 105,
   "id": "6c504376-efa0-41fa-b103-7795821c566f",
   "metadata": {},
   "outputs": [],
   "source": [
    "# Set the input and output file path\n",
    "csv_path = Path(\"Resources/budget_data.csv\")\n",
    "output_path = Path(\"Results/financial_analysis.txt\")"
   ]
  },
  {
   "cell_type": "code",
   "execution_count": 106,
   "id": "1121da26-ed94-4e79-9680-b8d10957ae7d",
   "metadata": {},
   "outputs": [],
   "source": [
    "# Initialize variables\n",
    "total_number_of_months = 0\n",
    "change_list = []\n",
    "total_profit_or_loss = 0"
   ]
  },
  {
   "cell_type": "code",
   "execution_count": 107,
   "id": "66b55f94-4411-494e-98c7-e71af60baec9",
   "metadata": {},
   "outputs": [],
   "source": [
    "# Open the input path as a file object and store change in a list\n",
    "with open(csv_path) as data:\n",
    "    \n",
    "    csv_reader = csv.reader(data)\n",
    "\n",
    "    # Skip the Header\n",
    "    next(csv_reader)\n",
    "\n",
    "    # Store first month data\n",
    "    row = next(csv_reader)\n",
    "    \n",
    "    total_number_of_months += 1\n",
    "    \n",
    "    total_profit_or_loss += int(row[1])\n",
    "    \n",
    "    previous_profit_or_loss = int(row[1])\n",
    "\n",
    "    for row in csv_reader:\n",
    "\n",
    "        # Track the total\n",
    "        total_number_of_months += 1\n",
    "        total_profit_or_loss += int(row[1])\n",
    "\n",
    "        # Track the net change\n",
    "        change = int(row[1]) - previous_profit_or_loss\n",
    "        \n",
    "        change_list = change_list + [change]\n",
    "        \n",
    "        previous_profit_or_loss = int(row[1])"
   ]
  },
  {
   "cell_type": "code",
   "execution_count": 113,
   "id": "b924eaf6-0bc8-4288-893b-eb81d0c638fa",
   "metadata": {},
   "outputs": [],
   "source": [
    "greatest_increase = max(change_list)"
   ]
  },
  {
   "cell_type": "code",
   "execution_count": 114,
   "id": "0e08e41b-4d54-4558-99b7-c0625307617f",
   "metadata": {},
   "outputs": [],
   "source": [
    "greatest_decrease = min(change_list)"
   ]
  },
  {
   "cell_type": "code",
   "execution_count": 115,
   "id": "789d5838-704d-47dd-83fd-006d92a92b1a",
   "metadata": {},
   "outputs": [],
   "source": [
    "# Calculate the Average Net Change\n",
    "net_monthly_avg = round(sum(change_list) / len(change_list),2)"
   ]
  },
  {
   "cell_type": "code",
   "execution_count": 116,
   "id": "21645264-8043-4e2e-ba35-c3a5e77f7283",
   "metadata": {},
   "outputs": [],
   "source": [
    "# Export the results to text file\n",
    "with open(file_to_output, \"w\") as txt_file:\n",
    "    txt_file.write(f\"Financial Analysis\\n\")\n",
    "    txt_file.write(f\"----------------------------\\n\")\n",
    "    txt_file.write(f\"Total Months: {total_number_of_months}\\n\")\n",
    "    txt_file.write(f\"Total: ${total_profit_or_loss}\\n\")\n",
    "    txt_file.write(f\"Average  Change: ${net_monthly_avg}\\n\")\n",
    "    txt_file.write(f\"Greatest Increase in Profits: {greatest_increase} (${greatest_increase})\\n\")\n",
    "    txt_file.write(f\"Greatest Decrease in Profits: {greatest_decrease} (${greatest_decrease})\\n\")"
   ]
  },
  {
   "cell_type": "code",
   "execution_count": null,
   "id": "4af32ab8-1f50-4d85-8b3c-2141e7cbfeff",
   "metadata": {},
   "outputs": [],
   "source": []
  },
  {
   "cell_type": "code",
   "execution_count": null,
   "id": "75789072-4f27-48bf-aadf-3b983c757cef",
   "metadata": {},
   "outputs": [],
   "source": []
  }
 ],
 "metadata": {
  "kernelspec": {
   "display_name": "Python 3",
   "language": "python",
   "name": "python3"
  },
  "language_info": {
   "codemirror_mode": {
    "name": "ipython",
    "version": 3
   },
   "file_extension": ".py",
   "mimetype": "text/x-python",
   "name": "python",
   "nbconvert_exporter": "python",
   "pygments_lexer": "ipython3",
   "version": "3.8.8"
  }
 },
 "nbformat": 4,
 "nbformat_minor": 5
}
