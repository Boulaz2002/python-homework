{
 "cells": [
  {
   "cell_type": "markdown",
   "id": "6c9f756b-3ce8-4d63-8f94-49657fe6e107",
   "metadata": {},
   "source": [
    "### PyBank Homework\n"
   ]
  },
  {
   "cell_type": "code",
   "execution_count": 180,
   "id": "23d9fe82-6888-4416-85e6-dc8d8e26899a",
   "metadata": {},
   "outputs": [],
   "source": [
    "# Import csv library and Path from pathlib\n",
    "import csv\n",
    "from pathlib import Path"
   ]
  },
  {
   "cell_type": "code",
   "execution_count": 181,
   "id": "6c504376-efa0-41fa-b103-7795821c566f",
   "metadata": {},
   "outputs": [],
   "source": [
    "# Set the input and output file path\n",
    "csv_path = Path(\"Resources/budget_data.csv\")\n",
    "output_path = Path(\"Results/financial_analysis.txt\")"
   ]
  },
  {
   "cell_type": "code",
   "execution_count": 182,
   "id": "1121da26-ed94-4e79-9680-b8d10957ae7d",
   "metadata": {},
   "outputs": [],
   "source": [
    "# Initialize variables\n",
    "total_number_of_months = 0\n",
    "\n",
    "change_and_date_dict = {}\n",
    "\n",
    "change_list = []\n",
    "\n",
    "total_profit_or_loss = 0\n"
   ]
  },
  {
   "cell_type": "code",
   "execution_count": 183,
   "id": "66b55f94-4411-494e-98c7-e71af60baec9",
   "metadata": {},
   "outputs": [],
   "source": [
    "# Open the input path as a file object and store change in a list\n",
    "with open(csv_path) as data:\n",
    "    \n",
    "    csv_reader = csv.reader(data)\n",
    "\n",
    "    # Skip the Header\n",
    "    next(csv_reader)\n",
    "\n",
    "    # Store first month data\n",
    "    row = next(csv_reader)\n",
    "    \n",
    "    total_number_of_months += 1\n",
    "    \n",
    "    total_profit_or_loss += int(row[1])\n",
    "    \n",
    "    previous_profit_or_loss = int(row[1])\n",
    "\n",
    "    for row in csv_reader:\n",
    "\n",
    "        total_number_of_months += 1\n",
    "        \n",
    "        total_profit_or_loss += int(row[1])\n",
    "        \n",
    "        change = int(row[1]) - previous_profit_or_loss\n",
    "        \n",
    "        change_list = change_list + [change]\n",
    "        \n",
    "        net_data = {row[0]: change} \n",
    "        \n",
    "        change_and_date_dict = {**change_and_date_dict, **net_data}\n",
    "        \n",
    "        previous_profit_or_loss = int(row[1])\n",
    "        \n",
    "        month_of_change += [row[0]]\n",
    "        "
   ]
  },
  {
   "cell_type": "code",
   "execution_count": 184,
   "id": "7441efa7-beff-431f-9923-ae65e8cb71c7",
   "metadata": {},
   "outputs": [],
   "source": [
    "# The greatest increase in profits"
   ]
  },
  {
   "cell_type": "code",
   "execution_count": 185,
   "id": "11b126d1-6c2f-422e-b755-80fed7167368",
   "metadata": {},
   "outputs": [],
   "source": [
    "greatest_increase = max(change_and_date_dict.items(), key=lambda x : x[1])"
   ]
  },
  {
   "cell_type": "code",
   "execution_count": 187,
   "id": "60119055-f3f9-4a81-b396-a245827cae49",
   "metadata": {
    "tags": []
   },
   "outputs": [],
   "source": [
    "#The greatest decrease in losses"
   ]
  },
  {
   "cell_type": "code",
   "execution_count": 188,
   "id": "0e08e41b-4d54-4558-99b7-c0625307617f",
   "metadata": {
    "tags": []
   },
   "outputs": [],
   "source": [
    "greatest_decrease = min(change_and_date_dict.items(), key=lambda y : y[1])"
   ]
  },
  {
   "cell_type": "code",
   "execution_count": 190,
   "id": "789d5838-704d-47dd-83fd-006d92a92b1a",
   "metadata": {},
   "outputs": [],
   "source": [
    "# Average Net Change\n",
    "net_monthly_avg = round(sum(change_list) / len(change_list),2)"
   ]
  },
  {
   "cell_type": "code",
   "execution_count": 191,
   "id": "21645264-8043-4e2e-ba35-c3a5e77f7283",
   "metadata": {},
   "outputs": [],
   "source": [
    "# Export the results to ouput files\n",
    "with open(file_to_output, \"w\") as txt_file:\n",
    "    txt_file.write(f\"Financial Analysis\\n\")\n",
    "    txt_file.write(f\"----------------------------\\n\")\n",
    "    txt_file.write(f\"Total Months: {total_number_of_months}\\n\")\n",
    "    txt_file.write(f\"Total: ${total_profit_or_loss}\\n\")\n",
    "    txt_file.write(f\"Average  Change: ${net_monthly_avg}\\n\")\n",
    "    txt_file.write(f\"Greatest Increase in Profits: {greatest_increase[0]} (${greatest_increase[1]})\\n\")\n",
    "    txt_file.write(f\"Greatest Decrease in Profits: {greatest_decrease[0]} (${greatest_decrease[1]})\\n\")"
   ]
  },
  {
   "cell_type": "code",
   "execution_count": null,
   "id": "4af32ab8-1f50-4d85-8b3c-2141e7cbfeff",
   "metadata": {},
   "outputs": [],
   "source": []
  },
  {
   "cell_type": "code",
   "execution_count": null,
   "id": "75789072-4f27-48bf-aadf-3b983c757cef",
   "metadata": {},
   "outputs": [],
   "source": []
  }
 ],
 "metadata": {
  "kernelspec": {
   "display_name": "Python 3",
   "language": "python",
   "name": "python3"
  },
  "language_info": {
   "codemirror_mode": {
    "name": "ipython",
    "version": 3
   },
   "file_extension": ".py",
   "mimetype": "text/x-python",
   "name": "python",
   "nbconvert_exporter": "python",
   "pygments_lexer": "ipython3",
   "version": "3.8.8"
  }
 },
 "nbformat": 4,
 "nbformat_minor": 5
}
